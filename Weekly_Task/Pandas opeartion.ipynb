import pandas as pd
pd.DataFrame({'col1': [1,2,3,4,5],
              'col2': [45,65,58,95,45],
             'col3': "asdf lkjh iopu ytre cvbn"})
df = pd.DataFrame({'col1': [1,2,3,4,5],
              'col2': [45,65,58,95,45],
             'col3': "asdf lkjh iopu ytre cvbn".split()})
# another way using apply function - apply fn is a mapping fn

def test(a):
    return a**2
df['col4_4'] = df['col1'].apply(test)
df
# col5 = first char of col3
df['col5'] = df['col3'].str[0]
df
# if col5 = 'a' then col6 = 'a', if col5 is not 'a' then col6 = z
# custom function like apply function

def test1(v):
    if v == 'a':
        return 'a'
    else:
        return 'z'
df['col6'] = df['col5'].apply(test1)
df

# if col5 = 'a' then col6 = 'a', if col5 is not 'a' then col6 = z using apply and lambda fn
# custom function like lambda function

df['col6_6'] = df['col5'].apply(lambda x : 'a' if x == 'a' else 'z')
df

# col7 = length of col3

df['col7'] = df['col3'].apply(len)
df

# col7 = length of col3 using lambda fn

df['col7'] = df['col3'].apply(len)

# col8 = logarithmic value of col2..... math package is not available in the python code

import math
df['col8'] = df['col2'].apply(math.log)
df

